{
 "cells": [
  {
   "cell_type": "code",
   "execution_count": null,
   "metadata": {},
   "outputs": [],
   "source": [
    "%load_ext autoreload\n",
    "%autoreload 2\n",
    "\n",
    "from dataset import CustomImageDataset\n",
    "import torch\n",
    "from torchvision.transforms.functional import to_pil_image\n",
    "from torch.utils.data import DataLoader\n",
    "from sklearn.metrics import confusion_matrix\n",
    "import seaborn as sns\n",
    "import matplotlib.pyplot as plt\n",
    "from neuralNetwork import NeuralNetwork\n",
    "\n",
    "val_data = CustomImageDataset(dataset_path=\"../Datasets/face-emotion\", mode=\"val\", transform=\"scale_224\")\n",
    "\n",
    "val_dataloader = DataLoader(val_data, batch_size=8, shuffle=True)\n"
   ]
  },
  {
   "cell_type": "code",
   "execution_count": null,
   "metadata": {},
   "outputs": [],
   "source": [
    "device = (\n",
    "    \"cuda\"\n",
    "    if torch.cuda.is_available()\n",
    "    else \"mps\"\n",
    "    if torch.backends.mps.is_available()\n",
    "    else \"cpu\"\n",
    ")\n",
    "print(f\"Using {device} device\")\n",
    "\n",
    "# model = NeuralNetwork().to(device)\n",
    "\n",
    "import timm\n",
    "\n",
    "model = timm.create_model(\"resnet18\", pretrained=True, num_classes=2).to(device)\n",
    "\n",
    "\n",
    "model.load_state_dict(torch.load(\"./models/resnet18.pt\"))\n",
    "model.eval()"
   ]
  },
  {
   "cell_type": "code",
   "execution_count": null,
   "metadata": {},
   "outputs": [],
   "source": [
    "true_labels = []\n",
    "predictions = []\n",
    "\n",
    "# Iterate over the dataloader\n",
    "for inputs, labels in val_dataloader:\n",
    "    with torch.no_grad():  # No need to track gradients\n",
    "        outputs = model(inputs)\n",
    "        _, predicted = torch.max(outputs, 1)\n",
    "\n",
    "    # Append true labels and predictions\n",
    "    true_labels.extend(labels.argmax(-1).cpu().numpy())\n",
    "    predictions.extend(predicted.cpu().numpy())\n",
    "\n",
    "cm = confusion_matrix(true_labels, predictions)\n",
    "\n",
    "sns.heatmap(cm, annot=True, fmt=\"d\")\n",
    "plt.xlabel(\"Predicted\")\n",
    "plt.ylabel(\"True\")\n",
    "plt.show()"
   ]
  },
  {
   "cell_type": "code",
   "execution_count": null,
   "metadata": {},
   "outputs": [],
   "source": [
    "X, y = val_data.__getitem__(16)\n",
    "\n",
    "X_cpu = X.cpu()\n",
    "X_cpu = torch.reshape(X_cpu, (224,224,3))\n",
    "\n",
    "X = X.unsqueeze(0)\n",
    "\n",
    "logits = model(X)\n",
    "pred_probab = torch.nn.Softmax(dim=1)(logits)\n",
    "y_pred = pred_probab.argmax(1)\n",
    "\n",
    "if (y.argmax(-1) == 0):\n",
    "    print(f\"Actual class: happy\")\n",
    "if (y.argmax(-1) == 1):\n",
    "    print(f\"Actual class: sad\") \n",
    "if (pred_probab.argmax(1)[0] == 0):\n",
    "    print(f\"Predicted class: happy\")\n",
    "if (pred_probab.argmax(1)[0] == 1):\n",
    "    print(f\"Predicted class: sad\")\n",
    "\n",
    "plt.imshow(X_cpu)\n",
    "plt.show()\n"
   ]
  },
  {
   "cell_type": "code",
   "execution_count": null,
   "metadata": {},
   "outputs": [],
   "source": []
  }
 ],
 "metadata": {
  "kernelspec": {
   "display_name": "base",
   "language": "python",
   "name": "python3"
  },
  "language_info": {
   "codemirror_mode": {
    "name": "ipython",
    "version": 3
   },
   "file_extension": ".py",
   "mimetype": "text/x-python",
   "name": "python",
   "nbconvert_exporter": "python",
   "pygments_lexer": "ipython3",
   "version": "3.10.8"
  }
 },
 "nbformat": 4,
 "nbformat_minor": 2
}
