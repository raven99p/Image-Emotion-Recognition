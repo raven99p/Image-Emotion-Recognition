{
 "cells": [
  {
   "cell_type": "markdown",
   "metadata": {},
   "source": [
    "OUTPUT SIZE OF FEATURE MAP\n",
    "\n",
    "I = input size\n",
    "\n",
    "F = Filter size\n",
    "\n",
    "P = padding\n",
    "\n",
    "S = stride\n",
    "\n",
    "\n",
    "\n",
    "NOTE: the kernel has to have the same depth as the image"
   ]
  },
  {
   "cell_type": "code",
   "execution_count": 1,
   "metadata": {},
   "outputs": [
    {
     "name": "stdout",
     "output_type": "stream",
     "text": [
      "Output size: 112x112x #filters\n"
     ]
    }
   ],
   "source": [
    "I = 112\n",
    "F = 3\n",
    "S = 1\n",
    "P = 1\n",
    "\n",
    "O = int((I-F+2*P)/S + 1)\n",
    "\n",
    "print(f\"Output size: {O}x{O}x #filters\")"
   ]
  },
  {
   "cell_type": "markdown",
   "metadata": {},
   "source": [
    "NUMBER OF PARAMETERS\n",
    "\n",
    "F = Filter size\n",
    "\n",
    "FC = Filter channels\n",
    "\n",
    "N = Number of filters"
   ]
  },
  {
   "cell_type": "code",
   "execution_count": 13,
   "metadata": {},
   "outputs": [
    {
     "name": "stdout",
     "output_type": "stream",
     "text": [
      "Number of parameters: 1168\n"
     ]
    }
   ],
   "source": [
    "F = 3\n",
    "FC = 8\n",
    "N = 16\n",
    "\n",
    "no_params = (F*F*FC + 1) * N\n",
    "\n",
    "print(f\"Number of parameters: {no_params}\")"
   ]
  },
  {
   "cell_type": "markdown",
   "metadata": {},
   "source": [
    "OUTPUT FEATURE MAP FOR POOLING\n",
    "\n",
    "W = Width\n",
    "\n",
    "H = Height\n",
    "\n",
    "C = Channels\n",
    "\n",
    "F = spatial extent\n",
    "\n",
    "S = stride"
   ]
  },
  {
   "cell_type": "code",
   "execution_count": 10,
   "metadata": {},
   "outputs": [
    {
     "name": "stdout",
     "output_type": "stream",
     "text": [
      "Output size: 25x25x8\n"
     ]
    }
   ],
   "source": [
    "W = 50\n",
    "H = 50\n",
    "C = 16\n",
    "F = 2\n",
    "S = 2\n",
    "\n",
    "Wout = int(((W - F) / S) + 1)\n",
    "Hout = int(((H - F) / S) + 1)\n",
    "Cout = int(((C - F) / S) + 1) # I guess this stays the same\n",
    "\n",
    "\n",
    "print(f\"Output size: {Wout}x{Hout}x{Cout}\")"
   ]
  },
  {
   "cell_type": "markdown",
   "metadata": {},
   "source": [
    "OUTPUT FEATURE MAP FOR POOLING - ?????????\n",
    "\n",
    "W = Width\n",
    "\n",
    "H = Height\n",
    "\n",
    "C = Channels\n",
    "\n",
    "F = Pooling window size\n",
    "\n",
    "S = stride"
   ]
  },
  {
   "cell_type": "code",
   "execution_count": 10,
   "metadata": {},
   "outputs": [
    {
     "name": "stdout",
     "output_type": "stream",
     "text": [
      "Output size: 14x14x4\n"
     ]
    }
   ],
   "source": [
    "W = 28\n",
    "H = 28\n",
    "C = 8\n",
    "S = 2\n",
    "P = 0\n",
    "F = 2\n",
    "\n",
    "Wout = int((((W - F) + (2 * P)) / S) + 1)\n",
    "Hout = int((((H - F) + (2 * P)) / S) + 1)\n",
    "Cout = int((((C - F) + (2 * P)) / S) + 1)\n",
    "\n",
    "print(f\"Output size: {Wout}x{Hout}x{Cout}\")"
   ]
  },
  {
   "cell_type": "markdown",
   "metadata": {},
   "source": [
    "FULL CONNECTED PARAMETERS\n",
    "\n",
    "N = fc neurons\n",
    "M = previous layer neurons \n"
   ]
  },
  {
   "cell_type": "code",
   "execution_count": 11,
   "metadata": {},
   "outputs": [
    {
     "name": "stdout",
     "output_type": "stream",
     "text": [
      "Number of parameters: 18\n"
     ]
    }
   ],
   "source": [
    "M = 8\n",
    "N = 2\n",
    "\n",
    "print(f\"Number of parameters: {(N*M) + N}\")"
   ]
  },
  {
   "cell_type": "code",
   "execution_count": null,
   "metadata": {},
   "outputs": [],
   "source": []
  }
 ],
 "metadata": {
  "kernelspec": {
   "display_name": "base",
   "language": "python",
   "name": "python3"
  },
  "language_info": {
   "codemirror_mode": {
    "name": "ipython",
    "version": 3
   },
   "file_extension": ".py",
   "mimetype": "text/x-python",
   "name": "python",
   "nbconvert_exporter": "python",
   "pygments_lexer": "ipython3",
   "version": "3.10.8"
  }
 },
 "nbformat": 4,
 "nbformat_minor": 2
}
