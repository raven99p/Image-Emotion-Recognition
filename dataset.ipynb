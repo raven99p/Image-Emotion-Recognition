{
 "cells": [
  {
   "cell_type": "code",
   "execution_count": null,
   "metadata": {},
   "outputs": [],
   "source": [
    "%load_ext autoreload\n",
    "%autoreload 2\n",
    "\n",
    "from dataset import CustomImageDataset\n",
    "import os\n",
    "import matplotlib.pyplot as plt\n",
    "import torch\n",
    "\n",
    "from torchvision.transforms.functional import to_pil_image"
   ]
  },
  {
   "cell_type": "code",
   "execution_count": null,
   "metadata": {},
   "outputs": [],
   "source": [
    "from torch.utils.data import DataLoader\n",
    "\n",
    "training_data = CustomImageDataset(dataset_path=\"../Datasets/face-emotion\", mode=\"train\", transform=\"scale_224\")\n",
    "test_data = CustomImageDataset(dataset_path=\"../Datasets/face-emotion\", mode=\"test\")\n",
    "\n",
    "train_dataloader = DataLoader(training_data, batch_size=8, shuffle=True)\n",
    "test_dataloader = DataLoader(test_data, batch_size=4, shuffle=True)\n",
    "\n",
    "train_features, train_labels = training_data.__getitem__(120)\n",
    "\n",
    "\n",
    "train_labels"
   ]
  },
  {
   "cell_type": "code",
   "execution_count": null,
   "metadata": {},
   "outputs": [],
   "source": [
    "import torch\n",
    "\n",
    "# Example string labels\n",
    "labels = [\"happy\", \"sad\"]\n",
    "\n",
    "# Convert string labels to numerical labels\n",
    "label_to_idx = {label: idx for idx, label in enumerate(set(labels))}\n",
    "numerical_labels = torch.tensor([label_to_idx[label] for label in labels])\n",
    "\n",
    "# Convert numerical labels to one-hot encoding\n",
    "num_classes = len(label_to_idx)\n",
    "one_hot_labels = torch.nn.functional.one_hot(numerical_labels, num_classes)\n",
    "\n",
    "print(one_hot_labels)"
   ]
  },
  {
   "cell_type": "code",
   "execution_count": null,
   "metadata": {},
   "outputs": [],
   "source": []
  }
 ],
 "metadata": {
  "kernelspec": {
   "display_name": "base",
   "language": "python",
   "name": "python3"
  },
  "language_info": {
   "codemirror_mode": {
    "name": "ipython",
    "version": 3
   },
   "file_extension": ".py",
   "mimetype": "text/x-python",
   "name": "python",
   "nbconvert_exporter": "python",
   "pygments_lexer": "ipython3",
   "version": "3.10.8"
  }
 },
 "nbformat": 4,
 "nbformat_minor": 2
}
