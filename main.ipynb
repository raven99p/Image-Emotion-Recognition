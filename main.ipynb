{
 "cells": [
  {
   "cell_type": "code",
   "execution_count": 1,
   "metadata": {},
   "outputs": [],
   "source": [
    "%load_ext autoreload\n",
    "%autoreload 2\n",
    "\n",
    "from dataset import CustomImageDataset\n",
    "import os\n",
    "import matplotlib.pyplot as plt\n",
    "import torch\n",
    "\n",
    "from torchvision.transforms.functional import to_pil_image\n"
   ]
  },
  {
   "cell_type": "code",
   "execution_count": 2,
   "metadata": {},
   "outputs": [
    {
     "name": "stderr",
     "output_type": "stream",
     "text": [
      "c:\\Users\\pauli\\OneDrive - University of Surrey\\work\\emotion-recognition\\dataset.py:40: UserWarning: To copy construct from a tensor, it is recommended to use sourceTensor.clone().detach() or sourceTensor.clone().detach().requires_grad_(True), rather than torch.tensor(sourceTensor).\n",
      "  image = torch.tensor(\n"
     ]
    },
    {
     "data": {
      "text/plain": [
       "torch.Size([1, 112, 112])"
      ]
     },
     "execution_count": 2,
     "metadata": {},
     "output_type": "execute_result"
    }
   ],
   "source": [
    "from torch.utils.data import DataLoader\n",
    "\n",
    "training_data = CustomImageDataset(dataset_path=\"../Datasets/face-emotion\", mode=\"train\", transform=\"grayscale\")\n",
    "test_data = CustomImageDataset(dataset_path=\"../Datasets/face-emotion\", mode=\"test\", transform=\"grayscale\")\n",
    "\n",
    "train_dataloader = DataLoader(training_data, batch_size=8, shuffle=True)\n",
    "test_dataloader = DataLoader(test_data, batch_size=4, shuffle=True)\n",
    "\n",
    "train_features, train_labels = next(iter(training_data))\n",
    "\n",
    "\n",
    "train_features.shape"
   ]
  },
  {
   "cell_type": "code",
   "execution_count": 3,
   "metadata": {},
   "outputs": [],
   "source": [
    "from torch import nn\n",
    "from torchvision import datasets, transforms"
   ]
  },
  {
   "cell_type": "code",
   "execution_count": 4,
   "metadata": {},
   "outputs": [
    {
     "name": "stdout",
     "output_type": "stream",
     "text": [
      "Using cuda device\n"
     ]
    }
   ],
   "source": [
    "device = (\n",
    "    \"cuda\"\n",
    "    if torch.cuda.is_available()\n",
    "    else \"mps\"\n",
    "    if torch.backends.mps.is_available()\n",
    "    else \"cpu\"\n",
    ")\n",
    "print(f\"Using {device} device\")"
   ]
  },
  {
   "cell_type": "code",
   "execution_count": 5,
   "metadata": {},
   "outputs": [
    {
     "name": "stderr",
     "output_type": "stream",
     "text": [
      "C:\\Users\\pauli\\AppData\\Local\\Temp\\ipykernel_22284\\2122651269.py:29: UserWarning: nn.init.xavier_uniform is now deprecated in favor of nn.init.xavier_uniform_.\n",
      "  xavier_uniform(self.conv1.weight)\n"
     ]
    }
   ],
   "source": [
    "# class NeuralNetwork(nn.Module):\n",
    "#     def __init__(self):\n",
    "#         super().__init__()\n",
    "#         self.flatten = nn.Flatten()\n",
    "#         self.linear_relu_stack = nn.Sequential(\n",
    "#             nn.Linear(112*112*3, 4096),\n",
    "#             nn.ReLU(),\n",
    "#             nn.Linear(4096, 2048),\n",
    "#             nn.ReLU(),\n",
    "#             nn.Linear(2048, 2),\n",
    "#         )\n",
    "\n",
    "#     def forward(self, x):\n",
    "#         x = self.flatten(x)\n",
    "#         logits = self.linear_relu_stack(x)\n",
    "#         return logits\n",
    "import torch.nn as nn\n",
    "import torch.nn.functional as F\n",
    "from torch.nn.init import xavier_uniform\n",
    "\n",
    "\n",
    "\n",
    "\n",
    "class NeuralNetwork(nn.Module):\n",
    "    def __init__(self):\n",
    "        super().__init__()\n",
    "        # Convolutional layers\n",
    "        self.conv1 = nn.Conv2d(1, 32, kernel_size=3, stride=1, padding=1)\n",
    "        xavier_uniform(self.conv1.weight)\n",
    "        self.batch_norm1 = nn.BatchNorm2d(num_features=32)\n",
    "        self.relu1 = nn.ReLU()\n",
    "        self.dropout1 = nn.Dropout(p=0.4)\n",
    "        self.conv2 = nn.Conv2d(32, 64, kernel_size=3, stride=1, padding=1)\n",
    "        self.batch_norm2 = nn.BatchNorm2d(num_features=64)\n",
    "        self.relu2 = nn.ReLU()\n",
    "        self.dropout2 = nn.Dropout(p=0.4)\n",
    "        self.conv3 = nn.Conv2d(64, 64, kernel_size=3, stride=1, padding=1)\n",
    "\n",
    "        # Max pooling\n",
    "        self.pool = nn.MaxPool2d(kernel_size=2, stride=2, padding=0)\n",
    "\n",
    "        # Fully connected layers\n",
    "        self.linear_shape = 64 * 56 * 56\n",
    "        self.fc1 = nn.Linear(self.linear_shape, 1024)\n",
    "        self.fc2 = nn.Linear(1024, 2)\n",
    "\n",
    "\n",
    "    def forward(self, x):\n",
    "        # Apply first convolutional layer\n",
    "        x = self.conv1(x)\n",
    "        x = self.batch_norm1(x)\n",
    "        x = self.relu1(x)\n",
    "        x = self.dropout1(x)\n",
    "\n",
    "        # Apply second convolutional layer\n",
    "        x = self.conv2(x)\n",
    "        # print(\"current shape: \", x.shape)\n",
    "        x = self.batch_norm2(x)\n",
    "        x = self.relu2(x)\n",
    "        x = self.dropout2(x)\n",
    "\n",
    "        # Apply third convolutional layer\n",
    "        x = self.conv3(x)\n",
    "\n",
    "        # Apply max pooling\n",
    "        x = self.pool(x)\n",
    "\n",
    "        # print(f\"before {x.shape}\")\n",
    "        # Flatten the output for the fully connected layer\n",
    "        x = x.view(-1, self.linear_shape)\n",
    "        # print(f\"after {x.shape}\")\n",
    "        # Apply first fully connected layer\n",
    "        x = self.fc1(x)\n",
    "\n",
    "        # Apply second fully connected layer\n",
    "        x = self.fc2(x)\n",
    "\n",
    "        return x\n",
    "\n",
    "\n",
    "# def forward(self, x):\n",
    "#     # Apply convolutions and max pooling\n",
    "#     x = self.pool(F.relu(self.conv1(x)))\n",
    "#     x = self.pool(F.relu(self.conv2(x)))\n",
    "#     x = self.pool(F.relu(self.conv3(x)))\n",
    "\n",
    "#     # Flatten the output for the fully connected layers\n",
    "#     x = x.view(-1, 128 * 14 * 14)\n",
    "\n",
    "#     # Fully connected layers with ReLU and output layer\n",
    "#     x = F.relu(self.fc1(x))\n",
    "#     x = self.fc2(x)\n",
    "#     return x\n",
    "\n",
    "model = NeuralNetwork().to(device)"
   ]
  },
  {
   "cell_type": "code",
   "execution_count": 6,
   "metadata": {},
   "outputs": [],
   "source": [
    "# import timm\n",
    "\n",
    "# model = timm.create_model('vgg16.tv_in1k', pretrained=True, num_classes=2).to(device)\n",
    "# model = model.eval()"
   ]
  },
  {
   "cell_type": "code",
   "execution_count": 7,
   "metadata": {},
   "outputs": [
    {
     "name": "stderr",
     "output_type": "stream",
     "text": [
      "C:\\Users\\pauli\\AppData\\Local\\Temp\\ipykernel_22284\\644040024.py:1: UserWarning: To copy construct from a tensor, it is recommended to use sourceTensor.clone().detach() or sourceTensor.clone().detach().requires_grad_(True), rather than torch.tensor(sourceTensor).\n",
      "  X = torch.tensor(train_features, dtype=torch.float32, device=device).unsqueeze(0)\n"
     ]
    },
    {
     "name": "stdout",
     "output_type": "stream",
     "text": [
      "Predicted class: tensor([0], device='cuda:0')\n"
     ]
    }
   ],
   "source": [
    "X = torch.tensor(train_features, dtype=torch.float32, device=device).unsqueeze(0)\n",
    "\n",
    "logits = model(X)\n",
    "pred_probab = nn.Softmax(dim=1)(logits)\n",
    "y_pred = pred_probab.argmax(1)\n",
    "print(f\"Predicted class: {y_pred}\")"
   ]
  },
  {
   "cell_type": "code",
   "execution_count": 8,
   "metadata": {},
   "outputs": [],
   "source": [
    "learning_rate = 1e-3\n",
    "batch_size = 8"
   ]
  },
  {
   "cell_type": "code",
   "execution_count": 9,
   "metadata": {},
   "outputs": [],
   "source": [
    "loss_fn = nn.CrossEntropyLoss()\n",
    "optimizer = torch.optim.Adam(model.parameters(), lr=learning_rate)"
   ]
  },
  {
   "cell_type": "code",
   "execution_count": 10,
   "metadata": {},
   "outputs": [],
   "source": [
    "def train_loop(dataloader, model, loss_fn, optimizer):\n",
    "    size = len(dataloader.dataset)\n",
    "    # Set the model to training mode - important for batch normalization and dropout layers\n",
    "    # Unnecessary in this situation but added for best practices\n",
    "    model.train()\n",
    "    for batch, (X, y) in enumerate(dataloader):\n",
    "        # Compute prediction and loss\n",
    "        pred = model(X)\n",
    "        loss = loss_fn(pred, y)\n",
    "\n",
    "        # Backpropagation\n",
    "        loss.backward()\n",
    "        optimizer.step()\n",
    "        optimizer.zero_grad()\n",
    "\n",
    "        if batch % 100 == 0:\n",
    "            loss, current = loss.item(), (batch + 1) * len(X)\n",
    "            print(f\"loss: {loss:>7f}  [{current:>5d}/{size:>5d}]\")\n",
    "\n",
    "\n",
    "def test_loop(dataloader, model, loss_fn):\n",
    "    # Set the model to evaluation mode - important for batch normalization and dropout layers\n",
    "    # Unnecessary in this situation but added for best practices\n",
    "    model.eval()\n",
    "    size = len(dataloader.dataset)\n",
    "    num_batches = len(dataloader)\n",
    "    test_loss, correct = 0, 0\n",
    "\n",
    "    # Evaluating the model with torch.no_grad() ensures that no gradients are computed during test mode\n",
    "    # also serves to reduce unnecessary gradient computations and memory usage for tensors with requires_grad=True\n",
    "    with torch.no_grad():\n",
    "        for X, y in dataloader:\n",
    "            pred = model(X)\n",
    "            test_loss += loss_fn(pred, y).item()\n",
    "            correct += (pred.argmax(1) == y.argmax(1)).type(torch.float).sum().item()\n",
    "\n",
    "    test_loss /= num_batches\n",
    "    correct /= size\n",
    "    print(f\"Test Error: \\n Accuracy: {(100*correct):>0.1f}%, Avg loss: {test_loss:>8f} \\n\")"
   ]
  },
  {
   "cell_type": "code",
   "execution_count": 11,
   "metadata": {},
   "outputs": [
    {
     "name": "stdout",
     "output_type": "stream",
     "text": [
      "Epoch 1\n",
      "-------------------------------\n",
      "loss: 0.574331  [    8/  294]\n",
      "Test Error: \n",
      " Accuracy: 46.7%, Avg loss: 14.424344 \n",
      "\n",
      "Epoch 2\n",
      "-------------------------------\n",
      "loss: 16.359831  [    8/  294]\n",
      "Test Error: \n",
      " Accuracy: 66.7%, Avg loss: 0.820371 \n",
      "\n",
      "Epoch 3\n",
      "-------------------------------\n",
      "loss: 0.555922  [    8/  294]\n",
      "Test Error: \n",
      " Accuracy: 46.7%, Avg loss: 0.787643 \n",
      "\n",
      "Epoch 4\n",
      "-------------------------------\n",
      "loss: 0.528066  [    8/  294]\n",
      "Test Error: \n",
      " Accuracy: 70.0%, Avg loss: 0.652065 \n",
      "\n",
      "Epoch 5\n",
      "-------------------------------\n",
      "loss: 0.267093  [    8/  294]\n",
      "Test Error: \n",
      " Accuracy: 80.0%, Avg loss: 0.492983 \n",
      "\n",
      "Epoch 6\n",
      "-------------------------------\n",
      "loss: 0.273959  [    8/  294]\n",
      "Test Error: \n",
      " Accuracy: 80.0%, Avg loss: 0.427597 \n",
      "\n",
      "Epoch 7\n",
      "-------------------------------\n",
      "loss: 0.165858  [    8/  294]\n",
      "Test Error: \n",
      " Accuracy: 83.3%, Avg loss: 0.973357 \n",
      "\n",
      "Epoch 8\n",
      "-------------------------------\n",
      "loss: 0.067252  [    8/  294]\n",
      "Test Error: \n",
      " Accuracy: 83.3%, Avg loss: 0.699951 \n",
      "\n",
      "Epoch 9\n",
      "-------------------------------\n",
      "loss: 0.062486  [    8/  294]\n",
      "Test Error: \n",
      " Accuracy: 86.7%, Avg loss: 0.515956 \n",
      "\n",
      "Epoch 10\n",
      "-------------------------------\n",
      "loss: 0.024202  [    8/  294]\n",
      "Test Error: \n",
      " Accuracy: 80.0%, Avg loss: 0.714754 \n",
      "\n",
      "Epoch 11\n",
      "-------------------------------\n",
      "loss: 0.003609  [    8/  294]\n",
      "Test Error: \n",
      " Accuracy: 83.3%, Avg loss: 0.692536 \n",
      "\n",
      "Epoch 12\n",
      "-------------------------------\n",
      "loss: 0.006404  [    8/  294]\n",
      "Test Error: \n",
      " Accuracy: 80.0%, Avg loss: 0.769522 \n",
      "\n",
      "Epoch 13\n",
      "-------------------------------\n",
      "loss: 0.001173  [    8/  294]\n",
      "Test Error: \n",
      " Accuracy: 76.7%, Avg loss: 0.946669 \n",
      "\n",
      "Epoch 14\n",
      "-------------------------------\n",
      "loss: 0.003465  [    8/  294]\n",
      "Test Error: \n",
      " Accuracy: 80.0%, Avg loss: 0.860074 \n",
      "\n",
      "Epoch 15\n",
      "-------------------------------\n",
      "loss: 0.004778  [    8/  294]\n",
      "Test Error: \n",
      " Accuracy: 83.3%, Avg loss: 0.875352 \n",
      "\n",
      "Epoch 16\n",
      "-------------------------------\n",
      "loss: 0.007270  [    8/  294]\n",
      "Test Error: \n",
      " Accuracy: 83.3%, Avg loss: 0.905097 \n",
      "\n",
      "Epoch 17\n",
      "-------------------------------\n",
      "loss: 0.001532  [    8/  294]\n",
      "Test Error: \n",
      " Accuracy: 83.3%, Avg loss: 0.758829 \n",
      "\n",
      "Epoch 18\n",
      "-------------------------------\n",
      "loss: 0.000592  [    8/  294]\n",
      "Test Error: \n",
      " Accuracy: 83.3%, Avg loss: 0.775277 \n",
      "\n",
      "Epoch 19\n",
      "-------------------------------\n",
      "loss: 0.000731  [    8/  294]\n",
      "Test Error: \n",
      " Accuracy: 83.3%, Avg loss: 0.941720 \n",
      "\n",
      "Epoch 20\n",
      "-------------------------------\n",
      "loss: 0.001706  [    8/  294]\n",
      "Test Error: \n",
      " Accuracy: 83.3%, Avg loss: 0.937194 \n",
      "\n",
      "Done!\n"
     ]
    }
   ],
   "source": [
    "epochs = 20\n",
    "for t in range(epochs):\n",
    "    print(f\"Epoch {t+1}\\n-------------------------------\")\n",
    "    train_loop(train_dataloader, model, loss_fn, optimizer)\n",
    "    test_loop(test_dataloader, model, loss_fn)\n",
    "print(\"Done!\")"
   ]
  },
  {
   "cell_type": "code",
   "execution_count": 14,
   "metadata": {},
   "outputs": [],
   "source": [
    "torch.save(model.state_dict(), \"./models/paulinho.pt\")"
   ]
  },
  {
   "cell_type": "code",
   "execution_count": null,
   "metadata": {},
   "outputs": [],
   "source": []
  }
 ],
 "metadata": {
  "kernelspec": {
   "display_name": "base",
   "language": "python",
   "name": "python3"
  },
  "language_info": {
   "codemirror_mode": {
    "name": "ipython",
    "version": 3
   },
   "file_extension": ".py",
   "mimetype": "text/x-python",
   "name": "python",
   "nbconvert_exporter": "python",
   "pygments_lexer": "ipython3",
   "version": "3.10.8"
  }
 },
 "nbformat": 4,
 "nbformat_minor": 2
}
